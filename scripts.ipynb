{
 "cells": [
  {
   "cell_type": "markdown",
   "metadata": {},
   "source": [
    "# Problem 2"
   ]
  },
  {
   "cell_type": "code",
   "execution_count": null,
   "metadata": {},
   "outputs": [],
   "source": [
    "#Birthday Cake Candles\n",
    "#!/bin/python3\n",
    "\n",
    "import math\n",
    "import os\n",
    "import random\n",
    "import re\n",
    "import sys\n",
    "\n",
    "#\n",
    "# Complete the 'birthdayCakeCandles' function below.\n",
    "#\n",
    "# The function is expected to return an INTEGER.\n",
    "# The function accepts INTEGER_ARRAY candles as parameter.\n",
    "#\n",
    "\n",
    "def birthdayCakeCandles(candles):\n",
    "    # Write your code here\n",
    "    _max = 0\n",
    "    _count = 0\n",
    "    for candle_h in candles:\n",
    "        if candle_h > _max:\n",
    "            _max = candle_h\n",
    "            _count = 1\n",
    "        elif candle_h == _max:\n",
    "            _count += 1\n",
    "    return _count\n",
    "            \n",
    "if __name__ == '__main__':\n",
    "    fptr = open(os.environ['OUTPUT_PATH'], 'w')\n",
    "\n",
    "    candles_count = int(input().strip())\n",
    "\n",
    "    candles = list(map(int, input().rstrip().split()))\n",
    "\n",
    "    result = birthdayCakeCandles(candles)\n",
    "\n",
    "    fptr.write(str(result) + '\\n')\n",
    "\n",
    "    fptr.close()\n"
   ]
  },
  {
   "cell_type": "code",
   "execution_count": null,
   "metadata": {},
   "outputs": [],
   "source": [
    "#Number Line Jumps\n",
    "#!/bin/python3\n",
    "\n",
    "import math\n",
    "import os\n",
    "import random\n",
    "import re\n",
    "import sys\n",
    "\n",
    "# Complete the kangaroo function below.\n",
    "def kangaroo(x1, v1, x2, v2):\n",
    "    if v1 != v2 and x1 != x2:\n",
    "        t = (x2-x1)/(v1-v2) # => the solution exists <=> t is integer and t>0\n",
    "        if t == int(t) and t>0:\n",
    "            return 'YES'\n",
    "        return 'NO'\n",
    "    return 'NO'\n",
    "            \n",
    "\n",
    "if __name__ == '__main__':\n",
    "    fptr = open(os.environ['OUTPUT_PATH'], 'w')\n",
    "\n",
    "    x1V1X2V2 = input().split()\n",
    "\n",
    "    x1 = int(x1V1X2V2[0])\n",
    "\n",
    "    v1 = int(x1V1X2V2[1])\n",
    "\n",
    "    x2 = int(x1V1X2V2[2])\n",
    "\n",
    "    v2 = int(x1V1X2V2[3])\n",
    "\n",
    "    result = kangaroo(x1, v1, x2, v2)\n",
    "\n",
    "    fptr.write(result + '\\n')\n",
    "\n",
    "    fptr.close()\n"
   ]
  },
  {
   "cell_type": "code",
   "execution_count": null,
   "metadata": {},
   "outputs": [],
   "source": [
    "#Viral Advertising\n",
    "#!/bin/python3\n",
    "\n",
    "import math\n",
    "import os\n",
    "import random\n",
    "import re\n",
    "import sys\n",
    "\n",
    "# Complete the viralAdvertising function below.\n",
    "def viralAdvertising(n):\n",
    "    recipients = 5\n",
    "    likes = int(recipients/2)\n",
    "    for i in range(1, n):\n",
    "        recipients = int(recipients/2) * 3\n",
    "        likes_var = int(recipients/2)\n",
    "        likes += likes_var\n",
    "    return likes\n",
    "    \n",
    "if __name__ == '__main__':\n",
    "    fptr = open(os.environ['OUTPUT_PATH'], 'w')\n",
    "\n",
    "    n = int(input())\n",
    "\n",
    "    result = viralAdvertising(n)\n",
    "\n",
    "    fptr.write(str(result) + '\\n')\n",
    "\n",
    "    fptr.close()\n"
   ]
  },
  {
   "cell_type": "code",
   "execution_count": null,
   "metadata": {},
   "outputs": [],
   "source": [
    "#Recursive Digit Sum\n",
    "#!/bin/python3\n",
    "\n",
    "import math\n",
    "import os\n",
    "import random\n",
    "import re\n",
    "import sys\n",
    "\n",
    "# Complete the superDigit function below.\n",
    "def superDigit(n, k):\n",
    "    str_n = str(n)\n",
    "    l = list(str_n)\n",
    "    result = 0\n",
    "    for digit in l:\n",
    "        result += int(digit)\n",
    "    result *= k\n",
    "    if result >= 10:\n",
    "        return superDigit(result, 1)\n",
    "    return result\n",
    "        \n",
    "if __name__ == '__main__':\n",
    "    fptr = open(os.environ['OUTPUT_PATH'], 'w')\n",
    "\n",
    "    nk = input().split()\n",
    "\n",
    "    n = nk[0]\n",
    "\n",
    "    k = int(nk[1])\n",
    "\n",
    "    result = superDigit(n, k)\n",
    "\n",
    "    fptr.write(str(result) + '\\n')\n",
    "\n",
    "    fptr.close()\n"
   ]
  },
  {
   "cell_type": "code",
   "execution_count": null,
   "metadata": {},
   "outputs": [],
   "source": [
    "#Insertion Sort - Part 1\n",
    "#!/bin/python3\n",
    "\n",
    "import math\n",
    "import os\n",
    "import random\n",
    "import re\n",
    "import sys\n",
    "\n",
    "# Complete the insertionSort1 function below.\n",
    "def insertionSort1(n, arr):\n",
    "    val = arr[-1]\n",
    "    flag = True\n",
    "    i = n-2 \n",
    "    while i >= 0:\n",
    "        if arr[i] > val:\n",
    "            arr[i+1] = arr[i]\n",
    "        else:\n",
    "            arr[i+1] = val\n",
    "            flag = False\n",
    "            break\n",
    "        for j in range(n):\n",
    "            print(arr[j], end=' ')\n",
    "        print()\n",
    "        i -= 1\n",
    "            \n",
    "    if flag:\n",
    "        arr[0] = val\n",
    "        \n",
    "    for j in range(n):\n",
    "        print(arr[j], end=' ')\n",
    "        \n",
    "if __name__ == '__main__':\n",
    "    n = int(input())\n",
    "\n",
    "    arr = list(map(int, input().rstrip().split()))\n",
    "\n",
    "    insertionSort1(n, arr)\n"
   ]
  },
  {
   "cell_type": "code",
   "execution_count": null,
   "metadata": {},
   "outputs": [],
   "source": [
    "#Insertion Sort - Part 2\n",
    "#!/bin/python3\n",
    "\n",
    "import math\n",
    "import os\n",
    "import random\n",
    "import re\n",
    "import sys\n",
    "\n",
    "# Complete the insertionSort2 function below.\n",
    "def insertionSort1(n, arr):\n",
    "    val = arr[-1]\n",
    "    flag = True\n",
    "    i = n-2 \n",
    "    while i >= 0:\n",
    "        if arr[i] > val:\n",
    "            arr[i+1] = arr[i]\n",
    "        else:\n",
    "            arr[i+1] = val\n",
    "            flag = False\n",
    "            break\n",
    "        i -= 1\n",
    "    if flag:\n",
    "        arr[0] = val\n",
    "    return arr\n",
    "\n",
    "def print_arr(arr, n):\n",
    "    for j in range(n):\n",
    "        print(arr[j], end=' ')\n",
    "    print()\n",
    "    \n",
    "def insertionSort2(n, arr):\n",
    "    result = arr[:1]\n",
    "    for i in range(1, n):\n",
    "        result.append(arr[i])\n",
    "        result = insertionSort1(i+1, result)\n",
    "        print_arr(result + arr[i+1:], n)\n",
    "\n",
    "if __name__ == '__main__':\n",
    "    n = int(input())\n",
    "\n",
    "    arr = list(map(int, input().rstrip().split()))\n",
    "\n",
    "    insertionSort2(n, arr)\n"
   ]
  },
  {
   "cell_type": "markdown",
   "metadata": {},
   "source": [
    "# Problem 1\n",
    "## Introduction"
   ]
  },
  {
   "cell_type": "code",
   "execution_count": null,
   "metadata": {},
   "outputs": [],
   "source": [
    "#Python If-Else\n",
    "#!/bin/python3\n",
    "\n",
    "import math\n",
    "import os\n",
    "import random\n",
    "import re\n",
    "import sys\n",
    "\n",
    "\n",
    "\n",
    "if __name__ == '__main__':\n",
    "    n = int(input().strip())\n",
    "    if n % 2:\n",
    "        print(\"Weird\")\n",
    "    else:\n",
    "        if 2 <= n <= 5:\n",
    "            print('Not Weird')\n",
    "        elif 6 <= n <= 20:\n",
    "            print(\"Weird\")\n",
    "        else:\n",
    "            print('Not Weird')\n",
    "        "
   ]
  },
  {
   "cell_type": "code",
   "execution_count": null,
   "metadata": {},
   "outputs": [],
   "source": [
    "#Arithmetic Operators\n",
    "if __name__ == '__main__':\n",
    "    a = int(input())\n",
    "    b = int(input())\n",
    "    print(a+b)\n",
    "    print(a-b)\n",
    "    print(a*b)\n"
   ]
  },
  {
   "cell_type": "code",
   "execution_count": null,
   "metadata": {},
   "outputs": [],
   "source": [
    "#Python: Division\n",
    "if __name__ == '__main__':\n",
    "    a = int(input())\n",
    "    b = int(input())\n",
    "    print(a//b)\n",
    "    print(a/b)\n"
   ]
  },
  {
   "cell_type": "code",
   "execution_count": null,
   "metadata": {},
   "outputs": [],
   "source": [
    "#Loops\n",
    "if __name__ == '__main__':\n",
    "    n = int(raw_input())\n",
    "    for i in range(n):\n",
    "        print(i**2)\n"
   ]
  },
  {
   "cell_type": "code",
   "execution_count": null,
   "metadata": {},
   "outputs": [],
   "source": [
    "#Write a function\n",
    "def is_leap(year):\n",
    "    leap = False\n",
    "    \n",
    "    # Write your logic here\n",
    "    if not (year % 4):\n",
    "        if not (year % 100):\n",
    "            if not (year % 400):\n",
    "                return True\n",
    "            return False\n",
    "        return True\n",
    "    return leap\n",
    "\n"
   ]
  },
  {
   "cell_type": "code",
   "execution_count": null,
   "metadata": {},
   "outputs": [],
   "source": [
    "#Print Function\n",
    "if __name__ == '__main__':\n",
    "    n = int(input())\n",
    "    for i in range(n):\n",
    "        print(i+1, end='', sep='')\n"
   ]
  },
  {
   "cell_type": "markdown",
   "metadata": {},
   "source": [
    "## Basic Data Types"
   ]
  },
  {
   "cell_type": "code",
   "execution_count": null,
   "metadata": {},
   "outputs": [],
   "source": [
    "#List Comprehensions\n",
    "if __name__ == '__main__':\n",
    "    x = int(input())\n",
    "    y = int(input())\n",
    "    z = int(input())\n",
    "    n = int(input())\n",
    "    # l = []\n",
    "    # for i in range(x+1):\n",
    "    #     for j in range(y+1):\n",
    "    #         for k in range(z+1):\n",
    "    #             if i+j+k != n:\n",
    "    #                 l.append([i,j,k])\n",
    "    l = [[i,j,k] for i in range(x+1) for j in range(y+1) for k in range(z+1) if i+j+k != n]\n",
    "    print(l)\n"
   ]
  },
  {
   "cell_type": "code",
   "execution_count": null,
   "metadata": {},
   "outputs": [],
   "source": [
    "#Find the Runner-Up Score!\n",
    "if __name__ == '__main__':\n",
    "    n = int(input())\n",
    "    arr = map(int, input().split())\n",
    "    max_1 = -100\n",
    "    max_2 = -100\n",
    "    for val in arr:\n",
    "        if val > max_1:\n",
    "            max_2 = max_1\n",
    "            max_1 = val\n",
    "        elif val > max_2 and val < max_1:\n",
    "            max_2 = val\n",
    "    print(max_2)\n"
   ]
  },
  {
   "cell_type": "code",
   "execution_count": null,
   "metadata": {},
   "outputs": [],
   "source": [
    "#Nested Lists\n",
    "import math\n",
    "\n",
    "if __name__ == '__main__':\n",
    "    r = []\n",
    "    min_1 = math.inf\n",
    "    min_2 = math.inf\n",
    "    for _ in range(int(input())):\n",
    "        name = input()\n",
    "        score = float(input())\n",
    "        r.append([name, score])\n",
    "        if score < min_1:\n",
    "            min_2 = min_1\n",
    "            min_1 = score\n",
    "        elif score < min_2 and score > min_1:\n",
    "            min_2 = score\n",
    "            \n",
    "    names = [t[0] for t in r if t[1] == min_2]\n",
    "    names.sort(reverse=False)\n",
    "    for n in names:\n",
    "        print(n)\n"
   ]
  },
  {
   "cell_type": "code",
   "execution_count": null,
   "metadata": {},
   "outputs": [],
   "source": [
    "#Finding the percentage\n",
    "if __name__ == '__main__':\n",
    "    n = int(input())\n",
    "    student_marks = {}\n",
    "    for _ in range(n):\n",
    "        name, *line = input().split()\n",
    "        scores = list(map(float, line))\n",
    "        student_marks[name] = scores\n",
    "    query_name = input()\n",
    "    \n",
    "    _sum = 0.\n",
    "    for score in student_marks[query_name]:\n",
    "        _sum += score\n",
    "    print(\"%.2f\" % float(_sum/len(student_marks[query_name])))\n"
   ]
  },
  {
   "cell_type": "code",
   "execution_count": null,
   "metadata": {},
   "outputs": [],
   "source": [
    "#Lists\n",
    "if __name__ == '__main__':\n",
    "    N = int(input())\n",
    "    l = []\n",
    "    for i in range(N):\n",
    "        comm = input().split()\n",
    "        if comm[0] == 'insert':\n",
    "            l.insert(int(comm[1]), int(comm[2]))\n",
    "        elif comm[0] == 'print':\n",
    "            print(l)\n",
    "        elif comm[0] == 'remove':\n",
    "            l.remove(int(comm[1]))\n",
    "        elif comm[0] == 'append':\n",
    "            l.append(int(comm[1]))\n",
    "        elif comm[0] == 'sort':\n",
    "            l.sort()\n",
    "        elif comm[0] == 'pop':\n",
    "            l.pop()\n",
    "        elif comm[0] == 'reverse':\n",
    "            l.reverse()\n"
   ]
  },
  {
   "cell_type": "code",
   "execution_count": null,
   "metadata": {},
   "outputs": [],
   "source": [
    "#Tuples\n",
    "if __name__ == '__main__':\n",
    "    n = int(input())\n",
    "    integer_list = map(int, input().split())\n",
    "    t = tuple()\n",
    "    for integer in integer_list:\n",
    "        t = t + (integer,)\n",
    "    print(hash(t))\n"
   ]
  },
  {
   "cell_type": "markdown",
   "metadata": {},
   "source": [
    "## Strings"
   ]
  },
  {
   "cell_type": "code",
   "execution_count": null,
   "metadata": {},
   "outputs": [],
   "source": [
    "#sWAP cASE\n",
    "def swap_case(s):\n",
    "    return s.swapcase()\n"
   ]
  },
  {
   "cell_type": "code",
   "execution_count": null,
   "metadata": {},
   "outputs": [],
   "source": [
    "#String Split and Join\n",
    "def split_and_join(line):\n",
    "    # write your code here\n",
    "    a = line.split(\" \")\n",
    "    return \"-\".join(a)\n"
   ]
  },
  {
   "cell_type": "code",
   "execution_count": null,
   "metadata": {},
   "outputs": [],
   "source": [
    "#What's Your Name?\n",
    "def print_full_name(a, b):\n",
    "    print(\"Hello \" + a + \" \" + b + \"! You just delved into python.\")\n"
   ]
  },
  {
   "cell_type": "code",
   "execution_count": null,
   "metadata": {},
   "outputs": [],
   "source": [
    "#Mutations\n",
    "def mutate_string(string, position, character):\n",
    "    l = list(string)\n",
    "    l[position] = character\n",
    "    return ''.join(l)\n"
   ]
  },
  {
   "cell_type": "code",
   "execution_count": null,
   "metadata": {},
   "outputs": [],
   "source": [
    "#Find a string\n",
    "def count_substring(string, sub_string):\n",
    "    len_sub = len(sub_string)\n",
    "    count = 0\n",
    "    for i in range(len(string) - len_sub + 1):\n",
    "        if string[i: i+len_sub] == sub_string:\n",
    "            count += 1\n",
    "    return count\n"
   ]
  },
  {
   "cell_type": "code",
   "execution_count": null,
   "metadata": {},
   "outputs": [],
   "source": [
    "#String Validators\n",
    "if __name__ == '__main__':\n",
    "    s = input()\n",
    "    # s.split('')\n",
    "    l = list(s)\n",
    "    alnum = False\n",
    "    alpha = False\n",
    "    digit = False\n",
    "    lower = False\n",
    "    upper = False\n",
    "    for c in l:\n",
    "        alnum = alnum or c.isalnum()\n",
    "        alpha = alpha or c.isalpha()\n",
    "        digit = digit or c.isdigit()\n",
    "        lower = lower or c.islower()\n",
    "        upper = upper or c.isupper()\n",
    "    print(alnum)\n",
    "    print(alpha)\n",
    "    print(digit)\n",
    "    print(lower)\n",
    "    print(upper)\n"
   ]
  },
  {
   "cell_type": "code",
   "execution_count": null,
   "metadata": {},
   "outputs": [],
   "source": [
    "#Text Alignment\n",
    "#Replace all ______ with rjust, ljust or center. \n",
    "\n",
    "thickness = int(input()) #This must be an odd number\n",
    "c = 'H'\n",
    "\n",
    "#Top Cone\n",
    "for i in range(thickness):\n",
    "    print((c*i).rjust(thickness-1)+c+(c*i).ljust(thickness-1))\n",
    "\n",
    "#Top Pillars\n",
    "for i in range(thickness+1):\n",
    "    print((c*thickness).center(thickness*2)+(c*thickness).center(thickness*6))\n",
    "\n",
    "#Middle Belt\n",
    "for i in range((thickness+1)//2):\n",
    "    print((c*thickness*5).center(thickness*6))    \n",
    "\n",
    "#Bottom Pillars\n",
    "for i in range(thickness+1):\n",
    "    print((c*thickness).center(thickness*2)+(c*thickness).center(thickness*6))    \n",
    "\n",
    "#Bottom Cone\n",
    "for i in range(thickness):\n",
    "    print(((c*(thickness-i-1)).rjust(thickness)+c+(c*(thickness-i-1)).ljust(thickness)).rjust(thickness*6))\n"
   ]
  },
  {
   "cell_type": "code",
   "execution_count": null,
   "metadata": {},
   "outputs": [],
   "source": [
    "#Text Wrap\n",
    "\n",
    "def wrap(string, max_width):\n",
    "    return '\\n'.join([ string[i*max_width:i*max_width+max_width] for i in range(len(string)//max_width+1)])\n"
   ]
  },
  {
   "cell_type": "code",
   "execution_count": null,
   "metadata": {},
   "outputs": [],
   "source": [
    "#Designer Door Mat\n",
    "# Enter your code here. Read input from STDIN. Print output to STDOUT\n",
    "def row_style(row_index, width):\n",
    "    return ('.|.'*((row_index-1)*2+1)).center(width, '-')\n",
    "\n",
    "inp = input().split()\n",
    "N = int(inp[0])\n",
    "M = int(inp[1])\n",
    "for i in range(N):\n",
    "    if i < N//2:\n",
    "        print(row_style(i+1, M))\n",
    "    elif i == N//2:\n",
    "        print('WELCOME'.center(M, '-'))\n",
    "    else:\n",
    "        print(row_style(N-i, M))\n"
   ]
  },
  {
   "cell_type": "code",
   "execution_count": null,
   "metadata": {},
   "outputs": [],
   "source": [
    "#String Formatting\n",
    "def print_formatted(number):\n",
    "    # your code goes here\n",
    "    l = len('{:b}'.format(n)) \n",
    "    for i in range(1, n+1):\n",
    "        print(str(i).rjust(l), '{:o}'.format(i).rjust(l), '{:X}'.format(i).rjust(l), '{:b}'.format(i).rjust(l))\n"
   ]
  },
  {
   "cell_type": "code",
   "execution_count": null,
   "metadata": {},
   "outputs": [],
   "source": [
    "#Alphabet Rangoli\n",
    "def create_str(starting_char, index):\n",
    "    string = starting_char\n",
    "    l = 1\n",
    "    for i in range(1, index):\n",
    "        l += 2\n",
    "        string = string.center(l,'-')\n",
    "        l += 2\n",
    "        string = string.center(l,chr(ord(starting_char) + i))\n",
    "    return string\n",
    "\n",
    "def print_rangoli(size):\n",
    "    # your code goes here\n",
    "    width = (size - 1) * 4 + 1\n",
    "    for i in range(1, size):\n",
    "        string = create_str(chr(ord('a') + size - i), i ).center(width,'-')\n",
    "        print(string)\n",
    "    print(create_str('a', size))\n",
    "    \n",
    "    for i in range(1, size):\n",
    "        string = create_str(chr(ord('a') + i), size - i).center(width,'-')\n",
    "        print(string)\n",
    "        "
   ]
  },
  {
   "cell_type": "code",
   "execution_count": null,
   "metadata": {},
   "outputs": [],
   "source": [
    "#Capitalize!\n",
    "# Complete the solve function below.\n",
    "def solve(s):\n",
    "    l = list(s)\n",
    "    flag = True\n",
    "    for i in range(len(l)):\n",
    "        if flag:\n",
    "            l[i] = l[i].capitalize()\n",
    "            flag = False\n",
    "        if l[i].isspace():\n",
    "            flag = True\n",
    "    return ''.join(l)\n"
   ]
  },
  {
   "cell_type": "code",
   "execution_count": null,
   "metadata": {},
   "outputs": [],
   "source": [
    "#Merge the Tools!\n",
    "from collections import OrderedDict\n",
    "\n",
    "def merge_the_tools(string, k):\n",
    "    # your code goes here\n",
    "    str_list = [string[i:i+k] for i in range(0, len(string)-k+1, k)]\n",
    "    for sub_str in str_list:\n",
    "        ord_dict = OrderedDict()\n",
    "        for c in sub_str:\n",
    "            ord_dict[c] = 1\n",
    "        for key in ord_dict:\n",
    "            print(key, end='')\n",
    "        print()\n"
   ]
  },
  {
   "cell_type": "code",
   "execution_count": null,
   "metadata": {},
   "outputs": [],
   "source": [
    "#The Minion Game (CORRECT BUT NOT EFFICIENT ENOUGH!)\n",
    "def is_vowel(c):\n",
    "    return c == 'A' or c == 'E' or c == 'I' or c == 'O' or c == 'U'\n",
    "\n",
    "def count_substring(string, sub_string):\n",
    "    len_sub = len(sub_string)\n",
    "    count = 0\n",
    "    for i in range(len(string) - len_sub + 1):\n",
    "        if string[i: i+len_sub] == sub_string:\n",
    "            count += 1\n",
    "    return count\n",
    "    \n",
    "def vowels_score(string):\n",
    "    _set = set()\n",
    "    vowels = {'A','E','I','O','U'}\n",
    "    score = 0\n",
    "    for i in range(len(string)):\n",
    "        if string[i] in vowels:\n",
    "            for j in range(i, len(string)):\n",
    "                s = string[i:j+1]\n",
    "                if s not in _set:\n",
    "                    _set.add(s)\n",
    "                    score += count_substring(string, s)\n",
    "    return score\n",
    "\n",
    "def consonants_score(string):\n",
    "    _set = set()\n",
    "    vowels = {'A','E','I','O','U'}\n",
    "    score = 0\n",
    "    for i in range(len(string)):\n",
    "        if string[i] not in vowels:\n",
    "            for j in range(i, len(string)):\n",
    "                s = string[i:j+1]\n",
    "                if s not in _set:\n",
    "                    _set.add(s)\n",
    "                    score += count_substring(string, s)\n",
    "    return score\n",
    "\n",
    "    \n",
    "    \n",
    "def minion_game(string):\n",
    "    # your code goes here\n",
    "    stuart_score = int(consonants_score(string))\n",
    "    kevin_score = int(vowels_score(string))\n",
    "    \n",
    "    if stuart_score > kevin_score:\n",
    "        print('Stuart', stuart_score)\n",
    "    elif kevin_score > stuart_score:\n",
    "        print('Kevin', kevin_score)\n",
    "    else:\n",
    "        print('Draw')\n",
    "\n"
   ]
  },
  {
   "cell_type": "markdown",
   "metadata": {},
   "source": [
    "## Set"
   ]
  },
  {
   "cell_type": "code",
   "execution_count": null,
   "metadata": {},
   "outputs": [],
   "source": [
    "#Introduction to Sets\n",
    "def average(array):\n",
    "    # your code goes here\n",
    "    s = set(array)\n",
    "    if len(s):\n",
    "        return sum(s)/len(s)\n",
    "    return 0.\n"
   ]
  },
  {
   "cell_type": "code",
   "execution_count": null,
   "metadata": {},
   "outputs": [],
   "source": [
    "#No Idea!\n",
    "# Enter your code here. Read input from STDIN. Print output to STDOUT\n",
    "n, m = list(map(int, input().split()))\n",
    "arr = list(map(int, input().split()))\n",
    "A = set(map(int, input().split()))\n",
    "B = set(map(int, input().split()))\n",
    "\n",
    "happiness = 0\n",
    "\n",
    "for i in arr:\n",
    "    if i in A:\n",
    "        happiness += 1\n",
    "    elif i in B:\n",
    "        happiness -= 1\n",
    "        \n",
    "print(happiness)\n"
   ]
  },
  {
   "cell_type": "code",
   "execution_count": null,
   "metadata": {},
   "outputs": [],
   "source": [
    "#Symmetric Difference\n",
    "# Enter your code here. Read input from STDIN. Print output to STDOUT\n",
    "M = raw_input()\n",
    "list_M = list(map(int, raw_input().split()))\n",
    "N = raw_input()\n",
    "list_N = list(map(int, raw_input().split()))\n",
    "\n",
    "set_M = set(list_M)\n",
    "set_N = set(list_N)\n",
    "\n",
    "simm_diff = set_M.difference(set_N).union(set_N.difference(set_M))\n",
    "l = list(simm_diff)\n",
    "l.sort()\n",
    "for it in l:\n",
    "    print(it)\n"
   ]
  },
  {
   "cell_type": "code",
   "execution_count": null,
   "metadata": {},
   "outputs": [],
   "source": [
    "#Set .add()\n",
    "# Enter your code here. Read input from STDIN. Print output to STDOUT\n",
    "N = int(input())\n",
    "s = set()\n",
    "for i in range(N):\n",
    "    s.add(input())\n",
    "\n",
    "print(len(s))\n"
   ]
  },
  {
   "cell_type": "code",
   "execution_count": null,
   "metadata": {},
   "outputs": [],
   "source": [
    "#Set .discard(), .remove() & .pop()\n",
    "n = int(input())\n",
    "s = set(map(int, input().split()))\n",
    "N = int(input())\n",
    "for i in range(N):\n",
    "    str_list = input().split()\n",
    "    if str_list[0] == 'pop':\n",
    "        s.pop()\n",
    "    elif str_list[0] == 'discard':\n",
    "        s.discard(int(str_list[1]))\n",
    "    elif str_list[0] == 'remove':\n",
    "        s.remove(int(str_list[1]))\n",
    "        \n",
    "print(sum(s))\n"
   ]
  },
  {
   "cell_type": "code",
   "execution_count": 1,
   "metadata": {},
   "outputs": [],
   "source": [
    "#Set .union() Operation\n",
    "# Enter your code here. Read input from STDIN. Print output to STDOUT\n",
    "\n",
    "n = input()\n",
    "set_n = set(map(int, input().split()))\n",
    "b = input()\n",
    "set_b = set(map(int, input().split()))\n",
    "\n",
    "res = set_n.union(set_b)\n",
    "print(len(res))\n"
   ]
  },
  {
   "cell_type": "code",
   "execution_count": null,
   "metadata": {},
   "outputs": [],
   "source": [
    "#Set .intersection() Operation\n",
    "# Enter your code here. Read input from STDIN. Print output to STDOUT\n",
    "n = input()\n",
    "set_n = set(map(int, input().split()))\n",
    "b = input()\n",
    "set_b = set(map(int, input().split()))\n",
    "\n",
    "res = set_n.intersection(set_b)\n",
    "print(len(res))\n"
   ]
  },
  {
   "cell_type": "code",
   "execution_count": null,
   "metadata": {},
   "outputs": [],
   "source": [
    "#Set .difference() Operation\n",
    "# Enter your code here. Read input from STDIN. Print output to STDOUT\n",
    "n = input()\n",
    "set_n = set(map(int, input().split()))\n",
    "b = input()\n",
    "set_b = set(map(int, input().split()))\n",
    "\n",
    "res = set_n.difference(set_b)\n",
    "print(len(res))\n"
   ]
  },
  {
   "cell_type": "code",
   "execution_count": null,
   "metadata": {},
   "outputs": [],
   "source": [
    "#Set .symmetric_difference() Operation\n",
    "# Enter your code here. Read input from STDIN. Print output to STDOUT\n",
    "n = input()\n",
    "set_n = set(map(int, input().split()))\n",
    "b = input()\n",
    "set_b = set(map(int, input().split()))\n",
    "\n",
    "res = set_n.symmetric_difference(set_b)\n",
    "print(len(res))\n"
   ]
  },
  {
   "cell_type": "code",
   "execution_count": null,
   "metadata": {},
   "outputs": [],
   "source": [
    "#Set Mutations\n",
    "# Enter your code here. Read input from STDIN. Print output to STDOUT\n",
    "A = int(input())\n",
    "set_A = set(map(int, input().split()))\n",
    "N = int(input())\n",
    "\n",
    "for i in range(N):\n",
    "    action_i = input().split()\n",
    "    set_i = set(map(int, input().split()))\n",
    "    exec('set_A.'+action_i[0]+'(set_i)')\n",
    "\n",
    "print(sum(set_A))\n"
   ]
  },
  {
   "cell_type": "code",
   "execution_count": null,
   "metadata": {},
   "outputs": [],
   "source": [
    "#The Captain's Room\n",
    "# Enter your code here. Read input from STDIN. Print output to STDOUT\n",
    "\n",
    "K = int(input())\n",
    "list_K = list(map(int, input().split()))\n",
    "rooms = set(list_K)\n",
    "signed_room = set()\n",
    "for room in list_K:\n",
    "    if room in signed_room:\n",
    "        rooms.discard(room)\n",
    "    signed_room.add(room)\n",
    "cap_room = rooms.pop()\n",
    "\n",
    "print(cap_room)\n"
   ]
  },
  {
   "cell_type": "code",
   "execution_count": null,
   "metadata": {},
   "outputs": [],
   "source": [
    "#Check Subset\n",
    "# Enter your code here. Read input from STDIN. Print output to STDOUT\n",
    "T = int(input())\n",
    "\n",
    "for i in range(T):\n",
    "    A = int(input())\n",
    "    set_A = set(map(int, input().split()))\n",
    "    B = int(input())\n",
    "    set_B = set(map(int, input().split()))\n",
    "    print(set_A.issubset(set_B))\n"
   ]
  },
  {
   "cell_type": "code",
   "execution_count": null,
   "metadata": {},
   "outputs": [],
   "source": [
    "#Check Strict Superset\n",
    "# Enter your code here. Read input from STDIN. Print output to STDOUT\n",
    "A = set(map(int, input().split()))\n",
    "N = int(input())\n",
    "flag = True\n",
    "\n",
    "for i in range(N):\n",
    "    s = set(map(int, input().split()))\n",
    "    if not (s.issubset(A) and len(A) > len(s)):\n",
    "        flag = False\n",
    "        break\n",
    "    \n",
    "print(flag)\n"
   ]
  },
  {
   "cell_type": "markdown",
   "metadata": {},
   "source": [
    "## Collections "
   ]
  },
  {
   "cell_type": "code",
   "execution_count": null,
   "metadata": {},
   "outputs": [],
   "source": [
    "#collections.Counter()\n",
    "# Enter your code here. Read input from STDIN. Print output to STDOUT\n",
    "from collections import Counter\n",
    "X = int(input())\n",
    "counter = Counter(map(int, input().split()))\n",
    "N = int(input())\n",
    "earnings = 0\n",
    "for i in range(N):\n",
    "    size, price = map(int, input().split())\n",
    "    if counter[size] > 0:\n",
    "        counter[size] -= 1\n",
    "        earnings += price\n",
    "print(earnings)\n"
   ]
  },
  {
   "cell_type": "code",
   "execution_count": null,
   "metadata": {},
   "outputs": [],
   "source": [
    "#DefaultDict Tutorial\n",
    "# Enter your code here. Read input from STDIN. Print output to STDOUT\n",
    "from collections import defaultdict\n",
    "\n",
    "d = defaultdict(list)\n",
    "n, m = map(int, input().split())\n",
    "\n",
    "for i in range(n):\n",
    "    word = input()\n",
    "    d[word].append(i+1)\n",
    "\n",
    "for i in range(m):\n",
    "    word = input()\n",
    "    if not d[word]:\n",
    "        print(-1)\n",
    "    else:\n",
    "        for pos in d[word]:\n",
    "            print(pos, end=' ')\n",
    "        print()\n"
   ]
  },
  {
   "cell_type": "code",
   "execution_count": null,
   "metadata": {},
   "outputs": [],
   "source": [
    "#Collections.namedtuple()\n",
    "from collections import namedtuple\n",
    "N = int(input())\n",
    "Record = namedtuple('Record',input())\n",
    "records = [Record(*input().split()) for i in range(N)]\n",
    "print(\"%.2f\" % (sum([int(record.MARKS) for record in records])/len(records)))\n"
   ]
  },
  {
   "cell_type": "code",
   "execution_count": null,
   "metadata": {},
   "outputs": [],
   "source": [
    "#Collections.OrderedDict()\n",
    "# Enter your code here. Read input from STDIN. Print output to STDOUT\n",
    "from collections import OrderedDict\n",
    "N = int(input())\n",
    "ordered_dictionary = OrderedDict()\n",
    "for i in range(N):\n",
    "    entry = input().split()\n",
    "    key = ' '.join(entry[:-1])\n",
    "    value = int(entry[-1])\n",
    "    if key in ordered_dictionary:\n",
    "        ordered_dictionary[key] += value\n",
    "    else:\n",
    "        ordered_dictionary[key] = value\n",
    "    \n",
    "for key in ordered_dictionary:\n",
    "    print(key, ordered_dictionary[key])\n"
   ]
  },
  {
   "cell_type": "code",
   "execution_count": null,
   "metadata": {},
   "outputs": [],
   "source": [
    "#Word Order\n",
    "# Enter your code here. Read input from STDIN. Print output to STDOUT\n",
    "from collections import OrderedDict\n",
    "N = int(input())\n",
    "ordered_dictionary = OrderedDict()\n",
    "for i in range(N):\n",
    "    key = input()\n",
    "    if key in ordered_dictionary:\n",
    "        ordered_dictionary[key] += 1\n",
    "    else:\n",
    "        ordered_dictionary[key] = 1\n",
    "\n",
    "print(len(ordered_dictionary))\n",
    "for key in ordered_dictionary:\n",
    "    print(ordered_dictionary[key], end=' ')\n"
   ]
  },
  {
   "cell_type": "code",
   "execution_count": null,
   "metadata": {},
   "outputs": [],
   "source": [
    "#Collections.deque()\n",
    "# Enter your code here. Read input from STDIN. Print output to STDOUT\n",
    "from collections import deque\n",
    "d = deque()\n",
    "N = int(input())\n",
    "for i in range(N):\n",
    "    command = input().split()\n",
    "    if len(command) > 1:\n",
    "        exec('d.'+command[0]+'('+command[1]+')')\n",
    "    else:\n",
    "        exec('d.'+command[0]+'()')\n",
    "        \n",
    "for it in d:\n",
    "    print(it, end=' ')\n"
   ]
  },
  {
   "cell_type": "code",
   "execution_count": null,
   "metadata": {},
   "outputs": [],
   "source": [
    "#Company Logo\n",
    "#!/bin/python3\n",
    "\n",
    "import math\n",
    "import os\n",
    "import random\n",
    "import re\n",
    "import sys\n",
    "\n",
    "if __name__ == '__main__':\n",
    "    s = input()\n",
    "    char_set = set(s)\n",
    "    l = [(c, s.count(c)) for c in char_set]\n",
    "    l.sort(reverse=True, key=lambda x:-ord(x[0]) + x[1]*256)\n",
    "    n_char =  3\n",
    "    for i in range(n_char):\n",
    "        print(l[i][0], l[i][1])\n",
    "    "
   ]
  },
  {
   "cell_type": "code",
   "execution_count": null,
   "metadata": {},
   "outputs": [],
   "source": [
    "#Piling Up!\n",
    "# Enter your code here. Read input from STDIN. Print output to STDOUT\n",
    "from collections import deque\n",
    "T = int(input())\n",
    "for i in range(T):\n",
    "    n = int(input())\n",
    "    cubes = deque(map(int, input().split()))\n",
    "    left = cubes.popleft()\n",
    "    right = cubes.pop()\n",
    "    length = max(left, right)\n",
    "    flag = True\n",
    "    while 0 < max(left, right) <= length:\n",
    "        if left > right:\n",
    "            length = left\n",
    "            if not cubes:\n",
    "                left = 0\n",
    "            else:\n",
    "                left = cubes.popleft()\n",
    "        else:\n",
    "            length = right\n",
    "            if not cubes:\n",
    "                right = 0\n",
    "            else:\n",
    "                right = cubes.pop()\n",
    "    \n",
    "    if cubes or max(left, right) > length:\n",
    "        print('No')\n",
    "    else:\n",
    "        print('Yes')\n"
   ]
  },
  {
   "cell_type": "markdown",
   "metadata": {},
   "source": [
    "## Date and Time "
   ]
  },
  {
   "cell_type": "code",
   "execution_count": null,
   "metadata": {},
   "outputs": [],
   "source": [
    "#Calendar Module\n",
    "# Enter your code here. Read input from STDIN. Print output to STDOUT\n",
    "import calendar\n",
    "\n",
    "weekDays = (\"MONDAY\",\"TUESDAY\",\"WEDNESDAY\",\"THURSDAY\",\"FRIDAY\",\"SATURDAY\",\"SUNDAY\")\n",
    "m,d,y = map(int, input().split())\n",
    "print(weekDays[calendar.weekday(y, m, d)])\n"
   ]
  },
  {
   "cell_type": "code",
   "execution_count": null,
   "metadata": {},
   "outputs": [],
   "source": [
    "#Time Delta\n",
    "#!/bin/python3\n",
    "\n",
    "import math\n",
    "import os\n",
    "import random\n",
    "import re\n",
    "import sys\n",
    "import datetime \n",
    "from dateutil.parser import *\n",
    "\n",
    "# Complete the time_delta function below.\n",
    "def time_delta(t1, t2):\n",
    "    d1 = parse(t1)\n",
    "    d2 = parse(t2)\n",
    "    return str(int(abs(d1-d2).total_seconds()))\n",
    "    \n",
    "if __name__ == '__main__':\n",
    "    fptr = open(os.environ['OUTPUT_PATH'], 'w')\n",
    "\n",
    "    t = int(input())\n",
    "\n",
    "    for t_itr in range(t):\n",
    "        t1 = input()\n",
    "\n",
    "        t2 = input()\n",
    "\n",
    "        delta = time_delta(t1, t2)\n",
    "\n",
    "        fptr.write(delta + '\\n')\n",
    "\n",
    "    fptr.close()\n"
   ]
  },
  {
   "cell_type": "markdown",
   "metadata": {},
   "source": [
    "## Exceptions "
   ]
  },
  {
   "cell_type": "code",
   "execution_count": null,
   "metadata": {},
   "outputs": [],
   "source": [
    "#Exceptions\n",
    "# Enter your code here. Read input from STDIN. Print output to STDOUT\n",
    "T = int(input())\n",
    "\n",
    "for i in range(T):\n",
    "    try:\n",
    "        a, b = map(int, input().split())\n",
    "        print(a//b)\n",
    "    except ZeroDivisionError as  e:\n",
    "        print(\"Error Code:\",e)\n",
    "    except ValueError as  e:\n",
    "        print(\"Error Code:\",e)\n"
   ]
  },
  {
   "cell_type": "markdown",
   "metadata": {},
   "source": [
    "## Built-ins "
   ]
  },
  {
   "cell_type": "code",
   "execution_count": null,
   "metadata": {},
   "outputs": [],
   "source": [
    "#Zipped!\n",
    "# Enter your code here. Read input from STDIN. Print output to STDOUT\n",
    "N, X = map(int, input().split())\n",
    "subjs = []\n",
    "for i in range(X):\n",
    "    subjs.append(list(map(float, input().split())))\n",
    "    \n",
    "for marks in zip(*subjs):\n",
    "    print(\"%.1f\" % (sum(marks)/X))\n"
   ]
  },
  {
   "cell_type": "code",
   "execution_count": null,
   "metadata": {},
   "outputs": [],
   "source": [
    "#Athlete Sort\n",
    "#!/bin/python3\n",
    "\n",
    "import math\n",
    "import os\n",
    "import random\n",
    "import re\n",
    "import sys\n",
    "\n",
    "\n",
    "\n",
    "if __name__ == '__main__':\n",
    "    nm = input().split()\n",
    "\n",
    "    n = int(nm[0])\n",
    "\n",
    "    m = int(nm[1])\n",
    "\n",
    "    arr = []\n",
    "\n",
    "    for _ in range(n):\n",
    "        arr.append(list(map(int, input().rstrip().split())))\n",
    "\n",
    "    k = int(input())\n",
    "    \n",
    "    arr.sort(key = lambda x : x[k])\n",
    "    \n",
    "    for row in arr:\n",
    "        print(*row)\n"
   ]
  },
  {
   "cell_type": "code",
   "execution_count": null,
   "metadata": {},
   "outputs": [],
   "source": [
    "#ginortS\n",
    "# Enter your code here. Read input from STDIN. Print output to STDOUT\n",
    "string = list(input())\n",
    "string.sort(reverse = True, key = lambda x : x.islower()*8*256 + x.isupper()*4*256 + x.isdigit()*2*256 + (x.isdigit()*ord(x)%2)*256 - ord(x))\n",
    "#string.sort(reverse = True, key = lambda x : ord(x))\n",
    "\n",
    "print(''.join(string))\n"
   ]
  },
  {
   "cell_type": "markdown",
   "metadata": {},
   "source": [
    "## Python Functionals "
   ]
  },
  {
   "cell_type": "code",
   "execution_count": null,
   "metadata": {},
   "outputs": [],
   "source": [
    "#Map and Lambda Function\n",
    "cube = lambda x: x**3# complete the lambda function \n",
    "\n",
    "def fibonacci(n):\n",
    "    # return a list of fibonacci numbers\n",
    "    num = 0\n",
    "    if n == 0:\n",
    "        return []\n",
    "    if n == 1:\n",
    "        return [0]\n",
    "    res = [0, 1]\n",
    "    for i in range(2, n):\n",
    "        res.append(res[-1]+res[-2])\n",
    "    return res\n"
   ]
  },
  {
   "cell_type": "markdown",
   "metadata": {},
   "source": [
    "## Regex and Parsing challenges "
   ]
  },
  {
   "cell_type": "code",
   "execution_count": null,
   "metadata": {},
   "outputs": [],
   "source": [
    "#Detect Floating Point Number\n",
    "# Enter your code here. Read input from STDIN. Print output to STDOUT\n",
    "import re\n",
    "T = int(input())\n",
    "\n",
    "for i in range(T):\n",
    "    string = input()\n",
    "    match = re.search('[+-.]?[0-9]*([.]{1}[0-9]+)$', string)\n",
    "    if match and match.span() == (0, len(string)):\n",
    "        print('True')\n",
    "    else:\n",
    "        print('False')\n"
   ]
  },
  {
   "cell_type": "code",
   "execution_count": null,
   "metadata": {},
   "outputs": [],
   "source": [
    "#Re.split()\n",
    "regex_pattern = r\"(?<=[0-9])[.,](?=[0-9])\"\t# Do not delete 'r'."
   ]
  },
  {
   "cell_type": "code",
   "execution_count": null,
   "metadata": {},
   "outputs": [],
   "source": [
    "#Group(), Groups() & Groupdict()\n",
    "# Enter your code here. Read input from STDIN. Print output to STDOUT\n",
    "import re\n",
    "\n",
    "m = re.search(r\"([A-Za-z0-9])\\1+\", input())\n",
    "if m:\n",
    "    print(m.group(1))\n",
    "else:\n",
    "    print(-1)\n"
   ]
  },
  {
   "cell_type": "code",
   "execution_count": null,
   "metadata": {},
   "outputs": [],
   "source": [
    "#Re.findall() & Re.finditer()\n",
    "# Enter your code here. Read input from STDIN. Print output to STDOUT \n",
    "import re\n",
    "vow = '[AEIOUaeiou]'\n",
    "cons = '[QWRTYPSDFGHJKLZXCVBNMqwrtypsdfghjklzxcvbnm]'\n",
    "l = re.findall('(?<='+cons+')'+vow+vow+'+(?='+cons+')',input())\n",
    "if not l:\n",
    "    print(-1)\n",
    "else:\n",
    "    for string in l:\n",
    "        print(string)\n"
   ]
  },
  {
   "cell_type": "code",
   "execution_count": null,
   "metadata": {},
   "outputs": [],
   "source": [
    "#Re.start() & Re.end()\n",
    "# Enter your code here. Read input from STDIN. Print output to STDOUT\n",
    "import re\n",
    "string = input()\n",
    "pattern = input()\n",
    "\n",
    "if not re.search(r'(?=('+pattern+'))',string):\n",
    "    print((-1,-1))\n",
    "else:\n",
    "    for m in re.finditer(r'(?=('+pattern+'))',string):\n",
    "        print((m.start(), m.start()+len(pattern)-1))\n"
   ]
  },
  {
   "cell_type": "markdown",
   "metadata": {},
   "source": [
    "## XML"
   ]
  },
  {
   "cell_type": "code",
   "execution_count": null,
   "metadata": {},
   "outputs": [],
   "source": [
    "#XML 1 - Find the Score\n",
    "\n",
    "def get_attr_number(node):\n",
    "    # your code goes here\n",
    "    score = 0\n",
    "    for it in node.iter():\n",
    "        score += len(it.attrib)\n",
    "    return score\n"
   ]
  },
  {
   "cell_type": "code",
   "execution_count": null,
   "metadata": {},
   "outputs": [],
   "source": [
    "#XML2 - Find the Maximum Depth\n",
    "# your code goes here\n",
    "maxdepth = 0\n",
    "def depth(elem, level):\n",
    "    global maxdepth\n",
    "    child_depth_list = [depth(child, level+1) for child in elem]\n",
    "    if child_depth_list:\n",
    "        max_depth = max(child_depth_list)+1\n",
    "        maxdepth = max_depth\n",
    "        return max_depth\n",
    "    return 0\n",
    "    \n"
   ]
  },
  {
   "cell_type": "markdown",
   "metadata": {},
   "source": [
    "## Closures and Decorations "
   ]
  },
  {
   "cell_type": "code",
   "execution_count": null,
   "metadata": {},
   "outputs": [],
   "source": [
    "#Standardize Mobile Number Using Decorators\n",
    "def wrapper(f):\n",
    "    def fun(l):\n",
    "        # complete the function\n",
    "        return f(['+91 ' + number[-10:-5] + ' ' + number[-5:] for number in l])\n",
    "    return fun\n"
   ]
  },
  {
   "cell_type": "code",
   "execution_count": null,
   "metadata": {},
   "outputs": [],
   "source": [
    "#Decorators 2 - Name Directory\n",
    "\n",
    "def person_lister(f):\n",
    "    def inner(people):\n",
    "        # complete the function\n",
    "        people.sort(key = lambda x : int(x[2]))\n",
    "        return [f(person) for person in people]\n",
    "    return inner\n"
   ]
  },
  {
   "cell_type": "markdown",
   "metadata": {},
   "source": [
    "## Numpy "
   ]
  },
  {
   "cell_type": "code",
   "execution_count": null,
   "metadata": {},
   "outputs": [],
   "source": [
    "#Arrays\n",
    "\n",
    "def arrays(arr):\n",
    "    # complete this function\n",
    "    # use numpy.array\n",
    "    return numpy.flip(numpy.array(arr, dtype=numpy.float))\n"
   ]
  },
  {
   "cell_type": "code",
   "execution_count": null,
   "metadata": {},
   "outputs": [],
   "source": [
    "#Shape and Reshape\n",
    "import numpy\n",
    "\n",
    "print(numpy.array(list(map(int, input().split()))).reshape((3,3)))\n"
   ]
  },
  {
   "cell_type": "code",
   "execution_count": null,
   "metadata": {},
   "outputs": [],
   "source": [
    "#Transpose and Flatten\n",
    "import numpy\n",
    "\n",
    "N, M = map(int, input().split())\n",
    "\n",
    "l = []\n",
    "for i in range(N):\n",
    "    l.append(list(map(int, input().split())))\n",
    "    \n",
    "arr = numpy.array(l)\n",
    "print(arr.transpose())\n",
    "print(arr.flatten())\n"
   ]
  },
  {
   "cell_type": "code",
   "execution_count": null,
   "metadata": {},
   "outputs": [],
   "source": [
    "#Concatenate\n",
    "import numpy\n",
    "\n",
    "N, M, P = map(int, input().split())\n",
    "\n",
    "l_n = []\n",
    "for i in range(N):\n",
    "    l_n.append(list(map(int, input().split())))\n",
    "arr_n = numpy.array(l_n)\n",
    "    \n",
    "l_m = []\n",
    "for i in range(M):\n",
    "    l_m.append(list(map(int, input().split())))\n",
    "arr_m = numpy.array(l_m)\n",
    "\n",
    "print(numpy.concatenate((arr_n, arr_m)))\n"
   ]
  },
  {
   "cell_type": "code",
   "execution_count": null,
   "metadata": {},
   "outputs": [],
   "source": [
    "#Zeros and Ones\n",
    "import numpy\n",
    "\n",
    "shape =  tuple(map(int, input().split()))\n",
    "\n",
    "print(numpy.zeros(shape, dtype=int))\n",
    "print(numpy.ones(shape, dtype=int))\n"
   ]
  },
  {
   "cell_type": "code",
   "execution_count": null,
   "metadata": {},
   "outputs": [],
   "source": [
    "#Eye and Identity\n",
    "import numpy\n",
    "numpy.set_printoptions(legacy='1.13')\n",
    "\n",
    "N, M = map(int, input().split())\n",
    "print(numpy.eye(N,M))\n"
   ]
  },
  {
   "cell_type": "code",
   "execution_count": null,
   "metadata": {},
   "outputs": [],
   "source": [
    "#Array Mathematics\n",
    "import numpy\n",
    "\n",
    "def read_arr(n_row):\n",
    "    l = []\n",
    "    for i in range(n_row):\n",
    "        l.append(list(map(int, input().split())))\n",
    "    return numpy.array(l, dtype=int)\n",
    "\n",
    "N, M = map(int, input().split())\n",
    "A = read_arr(N)\n",
    "B = read_arr(N)\n",
    "\n",
    "print(A+B)\n",
    "print(A-B)\n",
    "print(A*B)\n",
    "print(numpy.floor_divide(A, B))\n",
    "print(A%B)\n",
    "print(A**B)\n"
   ]
  },
  {
   "cell_type": "code",
   "execution_count": null,
   "metadata": {},
   "outputs": [],
   "source": [
    "#Floor, Ceil and Rint\n",
    "import numpy\n",
    "numpy.set_printoptions(legacy='1.13')\n",
    "\n",
    "A = numpy.array(list(map(float, input().split())))\n",
    "\n",
    "print(numpy.floor(A))\n",
    "print(numpy.ceil(A))\n",
    "print(numpy.rint(A))\n"
   ]
  },
  {
   "cell_type": "code",
   "execution_count": null,
   "metadata": {},
   "outputs": [],
   "source": [
    "#Sum and Prod\n",
    "import numpy\n",
    "\n",
    "def read_arr(n_row):\n",
    "    l = []\n",
    "    for i in range(n_row):\n",
    "        l.append(list(map(int, input().split())))\n",
    "    return numpy.array(l, dtype=int)\n",
    "\n",
    "N, M = map(int, input().split())\n",
    "A = read_arr(N)\n",
    "\n",
    "print(numpy.prod(numpy.sum(A, axis = 0)))\n"
   ]
  }
 ],
 "metadata": {
  "kernelspec": {
   "display_name": "EnvTensorflow",
   "language": "python",
   "name": "envtensorflow"
  },
  "language_info": {
   "codemirror_mode": {
    "name": "ipython",
    "version": 3
   },
   "file_extension": ".py",
   "mimetype": "text/x-python",
   "name": "python",
   "nbconvert_exporter": "python",
   "pygments_lexer": "ipython3",
   "version": "3.7.7"
  }
 },
 "nbformat": 4,
 "nbformat_minor": 4
}
